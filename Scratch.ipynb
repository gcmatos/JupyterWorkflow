{
 "cells": [
  {
   "cell_type": "code",
   "execution_count": 1,
   "metadata": {
    "collapsed": true,
    "deletable": true,
    "editable": true
   },
   "outputs": [],
   "source": [
    "import os"
   ]
  },
  {
   "cell_type": "code",
   "execution_count": 2,
   "metadata": {
    "collapsed": true,
    "deletable": true,
    "editable": true
   },
   "outputs": [],
   "source": [
    "from urllib.request import urlretrieve"
   ]
  },
  {
   "cell_type": "code",
   "execution_count": 3,
   "metadata": {
    "collapsed": true,
    "deletable": true,
    "editable": true
   },
   "outputs": [],
   "source": [
    "import pandas as pd"
   ]
  },
  {
   "cell_type": "code",
   "execution_count": 4,
   "metadata": {
    "collapsed": true,
    "deletable": true,
    "editable": true
   },
   "outputs": [],
   "source": [
    "URL ='https://data.seattle.gov/api/views/65db-xm6k/rows.csv?accessType=DOWNLOAD'"
   ]
  },
  {
   "cell_type": "code",
   "execution_count": 1,
   "metadata": {
    "collapsed": false,
    "deletable": true,
    "editable": true
   },
   "outputs": [
    {
     "ename": "NameError",
     "evalue": "name 'URL' is not defined",
     "output_type": "error",
     "traceback": [
      "\u001b[0;31m---------------------------------------------------------------------------\u001b[0m",
      "\u001b[0;31mNameError\u001b[0m                                 Traceback (most recent call last)",
      "\u001b[0;32m<ipython-input-1-c8fb890c3c9c>\u001b[0m in \u001b[0;36m<module>\u001b[0;34m()\u001b[0m\n\u001b[0;32m----> 1\u001b[0;31m def get_fremont_data(filename='Fremont.csv', url=URL,\n\u001b[0m\u001b[1;32m      2\u001b[0m                      force_download=False):\n\u001b[1;32m      3\u001b[0m     '''\n\u001b[1;32m      4\u001b[0m     \u001b[0mDownload\u001b[0m \u001b[0;32mand\u001b[0m \u001b[0mload\u001b[0m \u001b[0mdataset\u001b[0m\u001b[0;34m.\u001b[0m\u001b[0;34m\u001b[0m\u001b[0m\n\u001b[1;32m      5\u001b[0m \u001b[0;34m\u001b[0m\u001b[0m\n",
      "\u001b[0;31mNameError\u001b[0m: name 'URL' is not defined"
     ]
    }
   ],
   "source": [
    "def get_fremont_data(filename='Fremont.csv', url=URL,\n",
    "                     force_download=False):\n",
    "    '''\n",
    "    Download and load dataset.\n",
    "    \n",
    "    Parameters\n",
    "    ----------\n",
    "    filname: string(optional)\n",
    "    url: string(optional)\n",
    "    force_download: bool(optional), if True force download\n",
    "    \n",
    "    Returns\n",
    "    -------\n",
    "    data: pandas.DataFrame\n",
    "    \n",
    "    '''\n",
    "    if force_download or not os.path.exists(filename):\n",
    "        urlretrieve(URL, 'Fremont.csv')\n",
    "    \n",
    "    data = pd.read_csv('Fremont.csv', \n",
    "                       index_col='Date')\n",
    "    try:\n",
    "        data.index = pd.to_datetime(date.index, \n",
    "                                    format='%m/%d/%y %H:%M:%S %p')\n",
    "    except TypeError:\n",
    "        data.index = pd.to_datetime(date.index)\n",
    "    data.columns = ['West', 'East']\n",
    "    data['Total'] = data['West'] + data['East']\n",
    "    \n",
    "    return data"
   ]
  }
 ],
 "metadata": {
  "kernelspec": {
   "display_name": "Python 3",
   "language": "python",
   "name": "python3"
  },
  "language_info": {
   "codemirror_mode": {
    "name": "ipython",
    "version": 3
   },
   "file_extension": ".py",
   "mimetype": "text/x-python",
   "name": "python",
   "nbconvert_exporter": "python",
   "pygments_lexer": "ipython3",
   "version": "3.6.1"
  }
 },
 "nbformat": 4,
 "nbformat_minor": 2
}
